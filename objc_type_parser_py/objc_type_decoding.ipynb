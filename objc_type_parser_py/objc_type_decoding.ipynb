{
 "cells": [
  {
   "cell_type": "code",
   "execution_count": 12,
   "id": "65de6d5c-6667-4d55-971d-7996e49b0bc7",
   "metadata": {},
   "outputs": [],
   "source": [
    "from typing import List\n",
    "\n",
    "ENCODING_MAP = {\n",
    "    'v': \"void\",\n",
    "    'c': \"char\",\n",
    "    's': \"short\",\n",
    "    'i': \"int\",\n",
    "    'l': \"long\",\n",
    "    'C': \"unsigned char\",\n",
    "    'S': \"unsigned short\",\n",
    "    'I': \"unsigned int\",\n",
    "    'L': \"unsigned long\",\n",
    "    'f': \"float\",\n",
    "    'A': \"uint8_t\",\n",
    "    'b': \"BOOL\",\n",
    "    'B': \"BOOL\",\n",
    "\n",
    "    'q': \"NSInteger\",\n",
    "    'Q': \"NSUInteger\",\n",
    "    'd': \"CGFloat\",\n",
    "    '*': \"char *\",\n",
    "\n",
    "    '@': \"id\",\n",
    "    ':': \"SEL\",\n",
    "    '#': \"objc_class_t\",\n",
    "\n",
    "    '?': \"void *\",\n",
    "    'T': \"void *\",\n",
    "}\n",
    "\n",
    "def parse_type_string(encoded_type: str) -> List[str]:\n",
    "    result = []\n",
    "\n",
    "    for c in encoded_type:\n",
    "        # Skip frame size & offset info...\n",
    "        if c.isdigit():\n",
    "            continue\n",
    "\n",
    "        if c in ENCODING_MAP:\n",
    "            result.append(ENCODING_MAP[c])\n",
    "\n",
    "    return result"
   ]
  },
  {
   "cell_type": "code",
   "execution_count": 11,
   "id": "548fa393-d119-4d86-b0e8-b50eff30fede",
   "metadata": {},
   "outputs": [
    {
     "name": "stdout",
     "output_type": "stream",
     "text": [
      "void (id, SEL, NSInteger)\n",
      "void (id, SEL)\n",
      "NSUInteger (id, SEL, void*, NSUInteger, id, NSUInteger, NSUInteger, id, NSUInteger)\n",
      "void (id, SEL, id, BOOL, unsigned int, void, unsigned char, long, int)\n"
     ]
    }
   ],
   "source": [
    "EXAMPLE_TYPE_STRINGS = [\"v24@0:8q16\", \"v16@0:8\", \"Q40@0:8^{?=Q^@^Q[5Q]}16^@24Q32\", \"v24@0:8@\\\"BKHIDEventClient\\\"16\"]\n",
    "\n",
    "for encoded_type in EXAMPLE_TYPE_STRINGS:\n",
    "    tokens = parse_type_string(encoded_type)\n",
    "\n",
    "    ret_type = tokens[0]\n",
    "    args = tokens[1:]\n",
    "\n",
    "    print(f\"{ret_type} ({', '.join(args)})\")"
   ]
  }
 ],
 "metadata": {
  "kernelspec": {
   "display_name": "Python 3 (ipykernel)",
   "language": "python",
   "name": "python3"
  },
  "language_info": {
   "codemirror_mode": {
    "name": "ipython",
    "version": 3
   },
   "file_extension": ".py",
   "mimetype": "text/x-python",
   "name": "python",
   "nbconvert_exporter": "python",
   "pygments_lexer": "ipython3",
   "version": "3.11.6"
  }
 },
 "nbformat": 4,
 "nbformat_minor": 5
}
