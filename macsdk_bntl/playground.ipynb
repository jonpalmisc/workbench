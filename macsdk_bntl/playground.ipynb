{
 "cells": [
  {
   "cell_type": "markdown",
   "id": "dd698170",
   "metadata": {},
   "source": [
    "# macOS Userspace Type Library"
   ]
  },
  {
   "cell_type": "markdown",
   "id": "4583f6de",
   "metadata": {},
   "source": [
    "## Compiler configuration\n",
    "\n",
    "Include directories and macro definitions need to be configured for the source tree to successfullly parse. Specifically, macros such as `__arm64__` must be defined as certain headers are included conditionally by platform."
   ]
  },
  {
   "cell_type": "code",
   "execution_count": 1,
   "id": "5c0b9726-c5a3-4b2a-a1e7-d3de467b3c04",
   "metadata": {},
   "outputs": [],
   "source": [
    "INCLUDE_DIRS = [\"data/usr/include\"]\n",
    "COMPILER_FLAGS = [\"-D__arm64__=1\"]"
   ]
  },
  {
   "cell_type": "markdown",
   "id": "0ae06a3e-505a-4652-a450-0dfd57a0ef58",
   "metadata": {},
   "source": [
    "## Target setup\n",
    "\n",
    "For now, a subset of headers are selected to parse types from. In the future, this can be expanded to a wider selection of headers."
   ]
  },
  {
   "cell_type": "code",
   "execution_count": 2,
   "id": "004823b1-8c68-4fc3-aec0-6f20fa86cda0",
   "metadata": {},
   "outputs": [],
   "source": [
    "ROOT = \"data/usr/include/\"\n",
    "PATH_QUERIES = [\n",
    "    \"mach/clock.h\",\n",
    "    \"mach/mach_host.h\",\n",
    "    \"mach/mach_port.h\"\n",
    "]\n",
    "\n",
    "from glob import glob\n",
    "\n",
    "SOURCE_PATHS = []\n",
    "for p in PATH_QUERIES:\n",
    "    SOURCE_PATHS += glob(ROOT + p)"
   ]
  },
  {
   "cell_type": "markdown",
   "id": "5e080020-9fba-4fa0-8fd6-677e990e1a16",
   "metadata": {},
   "source": [
    "## Type parsing\n",
    "\n",
    "Parsing the types from source is relatively simple using the Clang type parser. The architecture and platform are currently hardcoded but can be easily made configurable later."
   ]
  },
  {
   "cell_type": "code",
   "execution_count": 3,
   "id": "f448abf7-234c-4138-b209-662b157521de",
   "metadata": {},
   "outputs": [],
   "source": [
    "from binaryninja import *\n",
    "\n",
    "target_arch = Architecture[\"aarch64\"]\n",
    "target_platform = Platform[\"mac-aarch64\"]\n",
    "type_parser = TypeParser[\"ClangTypeParser\"]\n",
    "\n",
    "types = {}\n",
    "functions = {}\n",
    "\n",
    "for path in SOURCE_PATHS:\n",
    "    with open(path, \"r\") as f:\n",
    "        source = f.read()\n",
    "\n",
    "    (result, _) = type_parser.parse_types_from_source(\n",
    "        source, path, target_platform, [], COMPILER_FLAGS, INCLUDE_DIRS\n",
    "    )\n",
    "    \n",
    "    for t in result.types:\n",
    "        types[t.name] = t.type\n",
    "    \n",
    "    for f in result.functions:\n",
    "        functions[f.name] = f.type"
   ]
  },
  {
   "cell_type": "markdown",
   "id": "e8d7c656-596f-4448-b7eb-4b6c0f7e24fe",
   "metadata": {},
   "source": [
    "## Library serialization\n",
    "\n",
    "Finally, the type library needs to be constructed and serialized to disk. Note the addition of the leading underscore to symbol names to ensure function names match those in the binary."
   ]
  },
  {
   "cell_type": "code",
   "execution_count": 4,
   "id": "a936671f-7335-48b1-b2d0-0a78a6fb2e5a",
   "metadata": {},
   "outputs": [],
   "source": [
    "OUTPUT_PATH = \"out/demo.bntl\"\n",
    "\n",
    "typelib = TypeLibrary.new(target_arch, \"libSystem.B.dylib\")\n",
    "typelib.add_platform(target_platform)\n",
    "\n",
    "for t in types:\n",
    "    typelib.add_named_type(t, types[t])\n",
    "for f in functions:\n",
    "    typelib.add_named_object(f\"_{f}\", functions[f])\n",
    "\n",
    "typelib.finalize()\n",
    "typelib.write_to_file(OUTPUT_PATH)"
   ]
  }
 ],
 "metadata": {
  "kernelspec": {
   "display_name": "Python 3 (ipykernel)",
   "language": "python",
   "name": "python3"
  },
  "language_info": {
   "codemirror_mode": {
    "name": "ipython",
    "version": 3
   },
   "file_extension": ".py",
   "mimetype": "text/x-python",
   "name": "python",
   "nbconvert_exporter": "python",
   "pygments_lexer": "ipython3",
   "version": "3.10.5"
  },
  "vscode": {
   "interpreter": {
    "hash": "5984c07bd85a09704efeebc43c280456997f3d9e1810f10980d19f89f173e200"
   }
  }
 },
 "nbformat": 4,
 "nbformat_minor": 5
}
